{
 "cells": [
  {
   "cell_type": "code",
   "execution_count": 1,
   "metadata": {},
   "outputs": [],
   "source": [
    "import numpy as np\n",
    "import pandas as pd\n",
    "from account import Account\n",
    "from brokerage import Brokerage\n",
    "from datastream import *"
   ]
  },
  {
   "cell_type": "markdown",
   "metadata": {},
   "source": [
    "# Account Class"
   ]
  },
  {
   "cell_type": "code",
   "execution_count": 2,
   "metadata": {},
   "outputs": [
    {
     "name": "stdout",
     "output_type": "stream",
     "text": [
      "Cash Balance: 10000\n",
      "Asset Balance: 77900\n",
      "Total Balance: 87900\n",
      "Positions: {'btc': [1, 65000], 'eth': [3, 4300]}\n",
      "---\n",
      "Cash Balance: 10000\n",
      "Asset Balance: 300\n",
      "Total Balance: 10300\n",
      "Positions: {'bnb': [10, 500], 'eth': [-1, 4700]}\n"
     ]
    }
   ],
   "source": [
    "accounts = {'linsu_binance': Account(10000, positions={'btc': [1, 65000], 'eth':[3, 4300]}),\n",
    "            'linsu_coinbase': Account(10000, positions={'bnb': [10, 500], 'eth':[-1, 4700]})}\n",
    "\n",
    "accounts['linsu_binance'].summary()\n",
    "print('---')\n",
    "accounts['linsu_coinbase'].summary()"
   ]
  },
  {
   "cell_type": "code",
   "execution_count": 3,
   "metadata": {},
   "outputs": [
    {
     "name": "stdout",
     "output_type": "stream",
     "text": [
      "Cash Balance: 10000\n",
      "Asset Balance: 77900\n",
      "Total Balance: 87900\n",
      "Positions: {'btc': [1, 65000], 'eth': [3, 4300]}\n",
      "---\n",
      "Cash Balance: 10000\n",
      "Asset Balance: 300\n",
      "Total Balance: 10300\n",
      "Positions: {'bnb': [10, 500], 'eth': [-1, 4700]}\n"
     ]
    }
   ],
   "source": [
    "# updates current price of BTC\n",
    "accounts['linsu_binance'].update_position('btc', 0, 65000)\n",
    "\n",
    "accounts['linsu_binance'].summary()\n",
    "print('---')\n",
    "accounts['linsu_coinbase'].summary()"
   ]
  },
  {
   "cell_type": "code",
   "execution_count": 4,
   "metadata": {},
   "outputs": [
    {
     "name": "stdout",
     "output_type": "stream",
     "text": [
      "Cash Balance: -35000\n",
      "Asset Balance: 102900\n",
      "Total Balance: 67900\n",
      "Positions: {'btc': [2, 45000], 'eth': [3, 4300]}\n",
      "---\n",
      "Cash Balance: 10000\n",
      "Asset Balance: 300\n",
      "Total Balance: 10300\n",
      "Positions: {'bnb': [10, 500], 'eth': [-1, 4700]}\n"
     ]
    }
   ],
   "source": [
    "# buys 1 BTC at 45000; simultaneously updates current price of BTC\n",
    "accounts['linsu_binance'].update_position('btc', 1, 45000)\n",
    "\n",
    "accounts['linsu_binance'].summary()\n",
    "print('---')\n",
    "accounts['linsu_coinbase'].summary()"
   ]
  },
  {
   "cell_type": "code",
   "execution_count": 5,
   "metadata": {},
   "outputs": [
    {
     "name": "stdout",
     "output_type": "stream",
     "text": [
      "Cash Balance: -35000\n",
      "Asset Balance: 102900\n",
      "Total Balance: 67900\n",
      "Positions: {'btc': [2, 45000], 'eth': [3, 4300]}\n",
      "---\n",
      "Cash Balance: 14500.0\n",
      "Asset Balance: -4200.0\n",
      "Total Balance: 10300.0\n",
      "Positions: {'bnb': [10, 500], 'eth': [-1, 4700], 'cro': [-10000, 0.45]}\n"
     ]
    }
   ],
   "source": [
    "# shorts 10000 CRO at .45; simultaneously updates current price of CRO\n",
    "accounts['linsu_coinbase'].update_position('cro', -10000, .45)\n",
    "\n",
    "accounts['linsu_binance'].summary()\n",
    "print('---')\n",
    "accounts['linsu_coinbase'].summary()"
   ]
  },
  {
   "cell_type": "markdown",
   "metadata": {},
   "source": [
    "# Data"
   ]
  },
  {
   "cell_type": "code",
   "execution_count": 6,
   "metadata": {},
   "outputs": [],
   "source": [
    "# Random walk of Feb 12 data\n",
    "dict_data = {'btc': np.random.normal(42728, 42843*.01, 100),\n",
    "             'eth': np.random.normal(2957.3, 2957.3*.01, 100),\n",
    "             'bnb': np.random.normal(403.67, 403.67*.01, 100),\n",
    "             'neo': np.random.normal(21.909, 21.909*.01, 100)}"
   ]
  },
  {
   "cell_type": "code",
   "execution_count": 7,
   "metadata": {},
   "outputs": [
    {
     "data": {
      "text/html": [
       "<div>\n",
       "<style scoped>\n",
       "    .dataframe tbody tr th:only-of-type {\n",
       "        vertical-align: middle;\n",
       "    }\n",
       "\n",
       "    .dataframe tbody tr th {\n",
       "        vertical-align: top;\n",
       "    }\n",
       "\n",
       "    .dataframe thead th {\n",
       "        text-align: right;\n",
       "    }\n",
       "</style>\n",
       "<table border=\"1\" class=\"dataframe\">\n",
       "  <thead>\n",
       "    <tr style=\"text-align: right;\">\n",
       "      <th></th>\n",
       "      <th>btc</th>\n",
       "      <th>eth</th>\n",
       "      <th>bnb</th>\n",
       "      <th>neo</th>\n",
       "    </tr>\n",
       "  </thead>\n",
       "  <tbody>\n",
       "    <tr>\n",
       "      <td>0</td>\n",
       "      <td>43257.079038</td>\n",
       "      <td>2950.352082</td>\n",
       "      <td>397.515385</td>\n",
       "      <td>21.817841</td>\n",
       "    </tr>\n",
       "    <tr>\n",
       "      <td>1</td>\n",
       "      <td>42677.827774</td>\n",
       "      <td>2969.647831</td>\n",
       "      <td>402.913092</td>\n",
       "      <td>22.188995</td>\n",
       "    </tr>\n",
       "    <tr>\n",
       "      <td>2</td>\n",
       "      <td>42737.543310</td>\n",
       "      <td>2965.862386</td>\n",
       "      <td>402.811412</td>\n",
       "      <td>22.030002</td>\n",
       "    </tr>\n",
       "    <tr>\n",
       "      <td>3</td>\n",
       "      <td>42860.310838</td>\n",
       "      <td>3017.988188</td>\n",
       "      <td>397.446024</td>\n",
       "      <td>22.114893</td>\n",
       "    </tr>\n",
       "    <tr>\n",
       "      <td>4</td>\n",
       "      <td>42746.641468</td>\n",
       "      <td>2972.507399</td>\n",
       "      <td>399.147442</td>\n",
       "      <td>21.474041</td>\n",
       "    </tr>\n",
       "    <tr>\n",
       "      <td>...</td>\n",
       "      <td>...</td>\n",
       "      <td>...</td>\n",
       "      <td>...</td>\n",
       "      <td>...</td>\n",
       "    </tr>\n",
       "    <tr>\n",
       "      <td>95</td>\n",
       "      <td>43353.655431</td>\n",
       "      <td>2969.880019</td>\n",
       "      <td>400.767402</td>\n",
       "      <td>21.607636</td>\n",
       "    </tr>\n",
       "    <tr>\n",
       "      <td>96</td>\n",
       "      <td>42677.233283</td>\n",
       "      <td>2999.547714</td>\n",
       "      <td>408.015769</td>\n",
       "      <td>22.349903</td>\n",
       "    </tr>\n",
       "    <tr>\n",
       "      <td>97</td>\n",
       "      <td>42829.272048</td>\n",
       "      <td>2980.054302</td>\n",
       "      <td>399.512979</td>\n",
       "      <td>22.158007</td>\n",
       "    </tr>\n",
       "    <tr>\n",
       "      <td>98</td>\n",
       "      <td>42523.765086</td>\n",
       "      <td>3001.035268</td>\n",
       "      <td>409.139964</td>\n",
       "      <td>21.880429</td>\n",
       "    </tr>\n",
       "    <tr>\n",
       "      <td>99</td>\n",
       "      <td>43448.134553</td>\n",
       "      <td>2951.187011</td>\n",
       "      <td>404.148700</td>\n",
       "      <td>22.149495</td>\n",
       "    </tr>\n",
       "  </tbody>\n",
       "</table>\n",
       "<p>100 rows × 4 columns</p>\n",
       "</div>"
      ],
      "text/plain": [
       "             btc          eth         bnb        neo\n",
       "0   43257.079038  2950.352082  397.515385  21.817841\n",
       "1   42677.827774  2969.647831  402.913092  22.188995\n",
       "2   42737.543310  2965.862386  402.811412  22.030002\n",
       "3   42860.310838  3017.988188  397.446024  22.114893\n",
       "4   42746.641468  2972.507399  399.147442  21.474041\n",
       "..           ...          ...         ...        ...\n",
       "95  43353.655431  2969.880019  400.767402  21.607636\n",
       "96  42677.233283  2999.547714  408.015769  22.349903\n",
       "97  42829.272048  2980.054302  399.512979  22.158007\n",
       "98  42523.765086  3001.035268  409.139964  21.880429\n",
       "99  43448.134553  2951.187011  404.148700  22.149495\n",
       "\n",
       "[100 rows x 4 columns]"
      ]
     },
     "execution_count": 7,
     "metadata": {},
     "output_type": "execute_result"
    }
   ],
   "source": [
    "df_data = pd.DataFrame(dict_data)\n",
    "df_data"
   ]
  },
  {
   "cell_type": "markdown",
   "metadata": {},
   "source": [
    "# Brokerage Class"
   ]
  },
  {
   "cell_type": "code",
   "execution_count": 8,
   "metadata": {},
   "outputs": [
    {
     "name": "stdout",
     "output_type": "stream",
     "text": [
      "Cash Balance: 10000\n",
      "Asset Balance: 77900\n",
      "Total Balance: 87900\n",
      "Positions: {'btc': [1, 65000], 'eth': [3, 4300]}\n",
      "---\n",
      "Cash Balance: 10000\n",
      "Asset Balance: 300\n",
      "Total Balance: 10300\n",
      "Positions: {'bnb': [10, 500], 'eth': [-1, 4700]}\n"
     ]
    }
   ],
   "source": [
    "datastream = PandasDataStream(df_data)\n",
    "accounts = {'linsu_binance': Account(10000, positions={'btc': [1, 65000], 'eth':[3, 4300]}),\n",
    "            'linsu_coinbase': Account(10000, positions={'bnb': [10, 500], 'eth':[-1, 4700]})}\n",
    "b = Brokerage(datastream, accounts)\n",
    "\n",
    "b.accounts['linsu_binance'].summary()\n",
    "print('---')\n",
    "b.accounts['linsu_coinbase'].summary()"
   ]
  },
  {
   "cell_type": "code",
   "execution_count": 9,
   "metadata": {},
   "outputs": [
    {
     "name": "stdout",
     "output_type": "stream",
     "text": [
      "Cash Balance: 10000.0\n",
      "Asset Balance: 52108.13528545539\n",
      "Total Balance: 62108.13528545539\n",
      "Positions: {'btc': [1, 43257.079038353186], 'eth': [3, 2950.352082367402]}\n",
      "---\n",
      "Cash Balance: 10000.0\n",
      "Asset Balance: 1024.801769052809\n",
      "Total Balance: 11024.801769052809\n",
      "Positions: {'bnb': [10, 397.5153851420211], 'eth': [-1, 2950.352082367402]}\n"
     ]
    }
   ],
   "source": [
    "# next updates the prices of all assets in account and processes any orders if there exists any\n",
    "next(b)\n",
    "\n",
    "b.accounts['linsu_binance'].summary()\n",
    "print('---')\n",
    "b.accounts['linsu_coinbase'].summary()"
   ]
  },
  {
   "cell_type": "code",
   "execution_count": 10,
   "metadata": {},
   "outputs": [
    {
     "name": "stdout",
     "output_type": "stream",
     "text": [
      "Cash Balance: 10022.188994945689\n",
      "Asset Balance: 51564.5822705489\n",
      "Total Balance: 61586.771265494586\n",
      "Positions: {'btc': [1, 42677.827773942976], 'eth': [3, 2969.647830517203], 'neo': [-1, 22.188994945688922]}\n",
      "---\n",
      "Cash Balance: 10000.0\n",
      "Asset Balance: 1059.483092399642\n",
      "Total Balance: 11059.483092399641\n",
      "Positions: {'bnb': [10, 402.9130922916845], 'eth': [-1, 2969.647830517203]}\n"
     ]
    }
   ],
   "source": [
    "# market buy\n",
    "b.add_order('linsu_binance', 'neo', '9fd8s0', 'market', -1)\n",
    "next(b)\n",
    "\n",
    "b.accounts['linsu_binance'].summary()\n",
    "print('---')\n",
    "b.accounts['linsu_coinbase'].summary()"
   ]
  },
  {
   "cell_type": "code",
   "execution_count": 11,
   "metadata": {},
   "outputs": [
    {
     "name": "stdout",
     "output_type": "stream",
     "text": [
      "Cash Balance: 10022.188994945689\n",
      "Asset Balance: 51613.100468080884\n",
      "Total Balance: 61635.28946302657\n",
      "Positions: {'btc': [1, 42737.543310443725], 'eth': [3, 2965.862386456563], 'neo': [-1, 22.0300017325274]}\n",
      "---\n",
      "Cash Balance: 10000.0\n",
      "Asset Balance: 1062.2517319708418\n",
      "Total Balance: 11062.251731970842\n",
      "Positions: {'bnb': [10, 402.8114118427405], 'eth': [-1, 2965.862386456563]}\n"
     ]
    }
   ],
   "source": [
    "# limit buy triggers since bnb price < limit buy price\n",
    "b.add_order('linsu_binance', 'bnb', '9fd8s0fdsa', 'limit', 5, 30)\n",
    "next(b)\n",
    "\n",
    "b.accounts['linsu_binance'].summary()\n",
    "print('---')\n",
    "b.accounts['linsu_coinbase'].summary()"
   ]
  },
  {
   "cell_type": "code",
   "execution_count": 12,
   "metadata": {},
   "outputs": [
    {
     "name": "stdout",
     "output_type": "stream",
     "text": [
      "Cash Balance: 10022.188994945689\n",
      "Asset Balance: 51892.160508713154\n",
      "Total Balance: 61914.34950365884\n",
      "Positions: {'btc': [1, 42860.31083791815], 'eth': [3, 3017.988187886029], 'neo': [-1, 22.114892863087245]}\n",
      "---\n",
      "Cash Balance: 10000.0\n",
      "Asset Balance: 956.4720528270318\n",
      "Total Balance: 10956.472052827032\n",
      "Positions: {'bnb': [10, 397.4460240713061], 'eth': [-1, 3017.988187886029]}\n"
     ]
    }
   ],
   "source": [
    "# limit buy fails to trigger since bnb price > limit buy price\n",
    "b.add_order('linsu_binance', 'bnb', '9fd8s0fdsa', 'limit', 5, 20)\n",
    "next(b)\n",
    "\n",
    "b.accounts['linsu_binance'].summary()\n",
    "print('---')\n",
    "b.accounts['linsu_coinbase'].summary()"
   ]
  }
 ],
 "metadata": {
  "kernelspec": {
   "display_name": "Python 3",
   "language": "python",
   "name": "python3"
  },
  "language_info": {
   "codemirror_mode": {
    "name": "ipython",
    "version": 3
   },
   "file_extension": ".py",
   "mimetype": "text/x-python",
   "name": "python",
   "nbconvert_exporter": "python",
   "pygments_lexer": "ipython3",
   "version": "3.7.4"
  }
 },
 "nbformat": 4,
 "nbformat_minor": 4
}
