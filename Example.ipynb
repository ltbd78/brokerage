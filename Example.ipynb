{
 "cells": [
  {
   "cell_type": "code",
   "execution_count": 1,
   "metadata": {},
   "outputs": [],
   "source": [
    "import pandas as pd\n",
    "from account import Account\n",
    "from brokerage import Brokerage"
   ]
  },
  {
   "cell_type": "markdown",
   "metadata": {},
   "source": [
    "# Account Class"
   ]
  },
  {
   "cell_type": "code",
   "execution_count": 2,
   "metadata": {},
   "outputs": [
    {
     "name": "stdout",
     "output_type": "stream",
     "text": [
      "Cash Balance: 10000\n",
      "Asset Balance: 77900\n",
      "Total Balance: 87900\n",
      "Positions: {'btc': [1, 65000], 'eth': [3, 4300]}\n",
      "---\n",
      "Cash Balance: 10000\n",
      "Asset Balance: 300\n",
      "Total Balance: 10300\n",
      "Positions: {'bnb': [10, 500], 'eth': [-1, 4700]}\n"
     ]
    }
   ],
   "source": [
    "accounts = {'linsu_binance': Account(10000, positions={'btc': [1, 65000], 'eth':[3, 4300]}),\n",
    "            'linsu_coinbase': Account(10000, positions={'bnb': [10, 500], 'eth':[-1, 4700]})}\n",
    "\n",
    "accounts['linsu_binance'].summary()\n",
    "print('---')\n",
    "accounts['linsu_coinbase'].summary()"
   ]
  },
  {
   "cell_type": "code",
   "execution_count": 3,
   "metadata": {},
   "outputs": [
    {
     "name": "stdout",
     "output_type": "stream",
     "text": [
      "Cash Balance: 10000\n",
      "Asset Balance: 77900\n",
      "Total Balance: 87900\n",
      "Positions: {'btc': [1, 65000], 'eth': [3, 4300]}\n",
      "---\n",
      "Cash Balance: 10000\n",
      "Asset Balance: 300\n",
      "Total Balance: 10300\n",
      "Positions: {'bnb': [10, 500], 'eth': [-1, 4700]}\n"
     ]
    }
   ],
   "source": [
    "# updates current price of BTC\n",
    "accounts['linsu_binance'].update_position('btc', 0, 65000)\n",
    "\n",
    "accounts['linsu_binance'].summary()\n",
    "print('---')\n",
    "accounts['linsu_coinbase'].summary()"
   ]
  },
  {
   "cell_type": "code",
   "execution_count": 4,
   "metadata": {},
   "outputs": [
    {
     "name": "stdout",
     "output_type": "stream",
     "text": [
      "Cash Balance: -35000\n",
      "Asset Balance: 102900\n",
      "Total Balance: 67900\n",
      "Positions: {'btc': [2, 45000], 'eth': [3, 4300]}\n",
      "---\n",
      "Cash Balance: 10000\n",
      "Asset Balance: 300\n",
      "Total Balance: 10300\n",
      "Positions: {'bnb': [10, 500], 'eth': [-1, 4700]}\n"
     ]
    }
   ],
   "source": [
    "# buys 1 BTC at 45000; simultaneously updates current price of BTC\n",
    "accounts['linsu_binance'].update_position('btc', 1, 45000)\n",
    "\n",
    "accounts['linsu_binance'].summary()\n",
    "print('---')\n",
    "accounts['linsu_coinbase'].summary()"
   ]
  },
  {
   "cell_type": "code",
   "execution_count": 5,
   "metadata": {},
   "outputs": [
    {
     "name": "stdout",
     "output_type": "stream",
     "text": [
      "Cash Balance: -35000\n",
      "Asset Balance: 102900\n",
      "Total Balance: 67900\n",
      "Positions: {'btc': [2, 45000], 'eth': [3, 4300]}\n",
      "---\n",
      "Cash Balance: 14500.0\n",
      "Asset Balance: -4200.0\n",
      "Total Balance: 10300.0\n",
      "Positions: {'bnb': [10, 500], 'eth': [-1, 4700], 'cro': [-10000, 0.45]}\n"
     ]
    }
   ],
   "source": [
    "# shorts 10000 CRO at .45; simultaneously updates current price of CRO\n",
    "accounts['linsu_coinbase'].update_position('cro', -10000, .45)\n",
    "\n",
    "accounts['linsu_binance'].summary()\n",
    "print('---')\n",
    "accounts['linsu_coinbase'].summary()"
   ]
  },
  {
   "cell_type": "markdown",
   "metadata": {},
   "source": [
    "# Data"
   ]
  },
  {
   "cell_type": "code",
   "execution_count": 6,
   "metadata": {},
   "outputs": [
    {
     "data": {
      "text/html": [
       "<div>\n",
       "<style scoped>\n",
       "    .dataframe tbody tr th:only-of-type {\n",
       "        vertical-align: middle;\n",
       "    }\n",
       "\n",
       "    .dataframe tbody tr th {\n",
       "        vertical-align: top;\n",
       "    }\n",
       "\n",
       "    .dataframe thead th {\n",
       "        text-align: right;\n",
       "    }\n",
       "</style>\n",
       "<table border=\"1\" class=\"dataframe\">\n",
       "  <thead>\n",
       "    <tr style=\"text-align: right;\">\n",
       "      <th></th>\n",
       "      <th>unix</th>\n",
       "      <th>btc</th>\n",
       "      <th>eth</th>\n",
       "      <th>ltc</th>\n",
       "      <th>neo</th>\n",
       "      <th>bnb</th>\n",
       "      <th>xrp</th>\n",
       "      <th>link</th>\n",
       "      <th>eos</th>\n",
       "      <th>trx</th>\n",
       "      <th>etc</th>\n",
       "      <th>xlm</th>\n",
       "      <th>zec</th>\n",
       "      <th>ada</th>\n",
       "      <th>qtum</th>\n",
       "      <th>dash</th>\n",
       "      <th>xmr</th>\n",
       "      <th>btt</th>\n",
       "    </tr>\n",
       "  </thead>\n",
       "  <tbody>\n",
       "    <tr>\n",
       "      <th>0</th>\n",
       "      <td>1599856860000</td>\n",
       "      <td>10319.50</td>\n",
       "      <td>369.01</td>\n",
       "      <td>48.99</td>\n",
       "      <td>20.204</td>\n",
       "      <td>25.0378</td>\n",
       "      <td>0.24248</td>\n",
       "      <td>12.3551</td>\n",
       "      <td>2.7755</td>\n",
       "      <td>0.03377</td>\n",
       "      <td>5.1814</td>\n",
       "      <td>0.08330</td>\n",
       "      <td>62.53</td>\n",
       "      <td>0.09622</td>\n",
       "      <td>2.754</td>\n",
       "      <td>76.22</td>\n",
       "      <td>83.66</td>\n",
       "      <td>0.000365</td>\n",
       "    </tr>\n",
       "    <tr>\n",
       "      <th>1</th>\n",
       "      <td>1599856920000</td>\n",
       "      <td>10319.34</td>\n",
       "      <td>368.71</td>\n",
       "      <td>48.94</td>\n",
       "      <td>20.218</td>\n",
       "      <td>25.0609</td>\n",
       "      <td>0.24242</td>\n",
       "      <td>12.3454</td>\n",
       "      <td>2.7754</td>\n",
       "      <td>0.03377</td>\n",
       "      <td>5.1790</td>\n",
       "      <td>0.08328</td>\n",
       "      <td>62.52</td>\n",
       "      <td>0.09634</td>\n",
       "      <td>2.754</td>\n",
       "      <td>76.22</td>\n",
       "      <td>83.67</td>\n",
       "      <td>0.000365</td>\n",
       "    </tr>\n",
       "    <tr>\n",
       "      <th>2</th>\n",
       "      <td>1599856980000</td>\n",
       "      <td>10319.00</td>\n",
       "      <td>368.84</td>\n",
       "      <td>48.95</td>\n",
       "      <td>20.201</td>\n",
       "      <td>25.0642</td>\n",
       "      <td>0.24242</td>\n",
       "      <td>12.3508</td>\n",
       "      <td>2.7756</td>\n",
       "      <td>0.03380</td>\n",
       "      <td>5.1767</td>\n",
       "      <td>0.08328</td>\n",
       "      <td>62.49</td>\n",
       "      <td>0.09626</td>\n",
       "      <td>2.756</td>\n",
       "      <td>76.06</td>\n",
       "      <td>83.66</td>\n",
       "      <td>0.000366</td>\n",
       "    </tr>\n",
       "    <tr>\n",
       "      <th>3</th>\n",
       "      <td>1599857040000</td>\n",
       "      <td>10319.47</td>\n",
       "      <td>368.68</td>\n",
       "      <td>48.95</td>\n",
       "      <td>20.217</td>\n",
       "      <td>25.0797</td>\n",
       "      <td>0.24248</td>\n",
       "      <td>12.3549</td>\n",
       "      <td>2.7754</td>\n",
       "      <td>0.03378</td>\n",
       "      <td>5.1780</td>\n",
       "      <td>0.08337</td>\n",
       "      <td>62.50</td>\n",
       "      <td>0.09623</td>\n",
       "      <td>2.755</td>\n",
       "      <td>76.19</td>\n",
       "      <td>83.66</td>\n",
       "      <td>0.000365</td>\n",
       "    </tr>\n",
       "    <tr>\n",
       "      <th>4</th>\n",
       "      <td>1599857100000</td>\n",
       "      <td>10322.50</td>\n",
       "      <td>369.20</td>\n",
       "      <td>48.95</td>\n",
       "      <td>20.230</td>\n",
       "      <td>25.1176</td>\n",
       "      <td>0.24255</td>\n",
       "      <td>12.3583</td>\n",
       "      <td>2.7759</td>\n",
       "      <td>0.03381</td>\n",
       "      <td>5.1799</td>\n",
       "      <td>0.08339</td>\n",
       "      <td>62.50</td>\n",
       "      <td>0.09627</td>\n",
       "      <td>2.756</td>\n",
       "      <td>76.25</td>\n",
       "      <td>83.67</td>\n",
       "      <td>0.000365</td>\n",
       "    </tr>\n",
       "    <tr>\n",
       "      <th>...</th>\n",
       "      <td>...</td>\n",
       "      <td>...</td>\n",
       "      <td>...</td>\n",
       "      <td>...</td>\n",
       "      <td>...</td>\n",
       "      <td>...</td>\n",
       "      <td>...</td>\n",
       "      <td>...</td>\n",
       "      <td>...</td>\n",
       "      <td>...</td>\n",
       "      <td>...</td>\n",
       "      <td>...</td>\n",
       "      <td>...</td>\n",
       "      <td>...</td>\n",
       "      <td>...</td>\n",
       "      <td>...</td>\n",
       "      <td>...</td>\n",
       "      <td>...</td>\n",
       "    </tr>\n",
       "    <tr>\n",
       "      <th>691870</th>\n",
       "      <td>1641693660000</td>\n",
       "      <td>41841.69</td>\n",
       "      <td>3116.86</td>\n",
       "      <td>130.20</td>\n",
       "      <td>23.430</td>\n",
       "      <td>432.2000</td>\n",
       "      <td>0.74890</td>\n",
       "      <td>25.8100</td>\n",
       "      <td>2.7910</td>\n",
       "      <td>0.06544</td>\n",
       "      <td>29.5800</td>\n",
       "      <td>0.25800</td>\n",
       "      <td>139.20</td>\n",
       "      <td>1.18600</td>\n",
       "      <td>7.643</td>\n",
       "      <td>142.80</td>\n",
       "      <td>186.20</td>\n",
       "      <td>0.002432</td>\n",
       "    </tr>\n",
       "    <tr>\n",
       "      <th>691871</th>\n",
       "      <td>1641693720000</td>\n",
       "      <td>41815.99</td>\n",
       "      <td>3115.48</td>\n",
       "      <td>130.20</td>\n",
       "      <td>23.410</td>\n",
       "      <td>431.9000</td>\n",
       "      <td>0.74830</td>\n",
       "      <td>25.8000</td>\n",
       "      <td>2.7900</td>\n",
       "      <td>0.06544</td>\n",
       "      <td>29.5100</td>\n",
       "      <td>0.25790</td>\n",
       "      <td>138.80</td>\n",
       "      <td>1.18500</td>\n",
       "      <td>7.635</td>\n",
       "      <td>142.70</td>\n",
       "      <td>185.90</td>\n",
       "      <td>0.002434</td>\n",
       "    </tr>\n",
       "    <tr>\n",
       "      <th>691872</th>\n",
       "      <td>1641693780000</td>\n",
       "      <td>41799.57</td>\n",
       "      <td>3113.13</td>\n",
       "      <td>130.10</td>\n",
       "      <td>23.390</td>\n",
       "      <td>431.7000</td>\n",
       "      <td>0.74780</td>\n",
       "      <td>25.7700</td>\n",
       "      <td>2.7880</td>\n",
       "      <td>0.06541</td>\n",
       "      <td>29.5100</td>\n",
       "      <td>0.25770</td>\n",
       "      <td>138.80</td>\n",
       "      <td>1.18300</td>\n",
       "      <td>7.627</td>\n",
       "      <td>142.60</td>\n",
       "      <td>186.00</td>\n",
       "      <td>0.002432</td>\n",
       "    </tr>\n",
       "    <tr>\n",
       "      <th>691873</th>\n",
       "      <td>1641693840000</td>\n",
       "      <td>41824.32</td>\n",
       "      <td>3114.99</td>\n",
       "      <td>130.20</td>\n",
       "      <td>23.390</td>\n",
       "      <td>432.1000</td>\n",
       "      <td>0.74850</td>\n",
       "      <td>25.7800</td>\n",
       "      <td>2.7900</td>\n",
       "      <td>0.06548</td>\n",
       "      <td>29.5300</td>\n",
       "      <td>0.25800</td>\n",
       "      <td>139.20</td>\n",
       "      <td>1.18500</td>\n",
       "      <td>7.634</td>\n",
       "      <td>143.30</td>\n",
       "      <td>186.10</td>\n",
       "      <td>0.002431</td>\n",
       "    </tr>\n",
       "    <tr>\n",
       "      <th>691874</th>\n",
       "      <td>1641693900000</td>\n",
       "      <td>41846.28</td>\n",
       "      <td>3116.89</td>\n",
       "      <td>130.20</td>\n",
       "      <td>23.430</td>\n",
       "      <td>432.4000</td>\n",
       "      <td>0.74910</td>\n",
       "      <td>25.8700</td>\n",
       "      <td>2.7930</td>\n",
       "      <td>0.06553</td>\n",
       "      <td>29.5700</td>\n",
       "      <td>0.25840</td>\n",
       "      <td>139.40</td>\n",
       "      <td>1.18700</td>\n",
       "      <td>7.637</td>\n",
       "      <td>143.80</td>\n",
       "      <td>186.30</td>\n",
       "      <td>0.002435</td>\n",
       "    </tr>\n",
       "  </tbody>\n",
       "</table>\n",
       "<p>691875 rows × 18 columns</p>\n",
       "</div>"
      ],
      "text/plain": [
       "                 unix       btc      eth     ltc     neo       bnb      xrp  \\\n",
       "0       1599856860000  10319.50   369.01   48.99  20.204   25.0378  0.24248   \n",
       "1       1599856920000  10319.34   368.71   48.94  20.218   25.0609  0.24242   \n",
       "2       1599856980000  10319.00   368.84   48.95  20.201   25.0642  0.24242   \n",
       "3       1599857040000  10319.47   368.68   48.95  20.217   25.0797  0.24248   \n",
       "4       1599857100000  10322.50   369.20   48.95  20.230   25.1176  0.24255   \n",
       "...               ...       ...      ...     ...     ...       ...      ...   \n",
       "691870  1641693660000  41841.69  3116.86  130.20  23.430  432.2000  0.74890   \n",
       "691871  1641693720000  41815.99  3115.48  130.20  23.410  431.9000  0.74830   \n",
       "691872  1641693780000  41799.57  3113.13  130.10  23.390  431.7000  0.74780   \n",
       "691873  1641693840000  41824.32  3114.99  130.20  23.390  432.1000  0.74850   \n",
       "691874  1641693900000  41846.28  3116.89  130.20  23.430  432.4000  0.74910   \n",
       "\n",
       "           link     eos      trx      etc      xlm     zec      ada   qtum  \\\n",
       "0       12.3551  2.7755  0.03377   5.1814  0.08330   62.53  0.09622  2.754   \n",
       "1       12.3454  2.7754  0.03377   5.1790  0.08328   62.52  0.09634  2.754   \n",
       "2       12.3508  2.7756  0.03380   5.1767  0.08328   62.49  0.09626  2.756   \n",
       "3       12.3549  2.7754  0.03378   5.1780  0.08337   62.50  0.09623  2.755   \n",
       "4       12.3583  2.7759  0.03381   5.1799  0.08339   62.50  0.09627  2.756   \n",
       "...         ...     ...      ...      ...      ...     ...      ...    ...   \n",
       "691870  25.8100  2.7910  0.06544  29.5800  0.25800  139.20  1.18600  7.643   \n",
       "691871  25.8000  2.7900  0.06544  29.5100  0.25790  138.80  1.18500  7.635   \n",
       "691872  25.7700  2.7880  0.06541  29.5100  0.25770  138.80  1.18300  7.627   \n",
       "691873  25.7800  2.7900  0.06548  29.5300  0.25800  139.20  1.18500  7.634   \n",
       "691874  25.8700  2.7930  0.06553  29.5700  0.25840  139.40  1.18700  7.637   \n",
       "\n",
       "          dash     xmr       btt  \n",
       "0        76.22   83.66  0.000365  \n",
       "1        76.22   83.67  0.000365  \n",
       "2        76.06   83.66  0.000366  \n",
       "3        76.19   83.66  0.000365  \n",
       "4        76.25   83.67  0.000365  \n",
       "...        ...     ...       ...  \n",
       "691870  142.80  186.20  0.002432  \n",
       "691871  142.70  185.90  0.002434  \n",
       "691872  142.60  186.00  0.002432  \n",
       "691873  143.30  186.10  0.002431  \n",
       "691874  143.80  186.30  0.002435  \n",
       "\n",
       "[691875 rows x 18 columns]"
      ]
     },
     "execution_count": 6,
     "metadata": {},
     "output_type": "execute_result"
    }
   ],
   "source": [
    "df_data = pd.read_csv('crypto_1m.csv')\n",
    "df_data"
   ]
  },
  {
   "cell_type": "markdown",
   "metadata": {},
   "source": [
    "# Brokerage Class"
   ]
  },
  {
   "cell_type": "code",
   "execution_count": 7,
   "metadata": {},
   "outputs": [
    {
     "name": "stdout",
     "output_type": "stream",
     "text": [
      "Cash Balance: 10000\n",
      "Asset Balance: 77900\n",
      "Total Balance: 87900\n",
      "Positions: {'btc': [1, 65000], 'eth': [3, 4300]}\n",
      "---\n",
      "Cash Balance: 10000\n",
      "Asset Balance: 300\n",
      "Total Balance: 10300\n",
      "Positions: {'bnb': [10, 500], 'eth': [-1, 4700]}\n"
     ]
    }
   ],
   "source": [
    "accounts = {'linsu_binance': Account(10000, positions={'btc': [1, 65000], 'eth':[3, 4300]}),\n",
    "            'linsu_coinbase': Account(10000, positions={'bnb': [10, 500], 'eth':[-1, 4700]})}\n",
    "b = Brokerage(df_data, accounts)\n",
    "\n",
    "b.accounts['linsu_binance'].summary()\n",
    "print('---')\n",
    "b.accounts['linsu_coinbase'].summary()"
   ]
  },
  {
   "cell_type": "code",
   "execution_count": 8,
   "metadata": {},
   "outputs": [
    {
     "name": "stdout",
     "output_type": "stream",
     "text": [
      "Cash Balance: 10000.0\n",
      "Asset Balance: 11426.53\n",
      "Total Balance: 21426.53\n",
      "Positions: {'btc': [1, 10319.5], 'eth': [3, 369.01]}\n",
      "---\n",
      "Cash Balance: 10000.0\n",
      "Asset Balance: -118.63199999999998\n",
      "Total Balance: 9881.368\n",
      "Positions: {'bnb': [10, 25.0378], 'eth': [-1, 369.01]}\n"
     ]
    }
   ],
   "source": [
    "# next updates the prices of all assets in account and processes any orders if there exists any\n",
    "next(b)\n",
    "\n",
    "b.accounts['linsu_binance'].summary()\n",
    "print('---')\n",
    "b.accounts['linsu_coinbase'].summary()"
   ]
  },
  {
   "cell_type": "code",
   "execution_count": 9,
   "metadata": {},
   "outputs": [
    {
     "name": "stdout",
     "output_type": "stream",
     "text": [
      "Cash Balance: 10020.218\n",
      "Asset Balance: 11405.251999999999\n",
      "Total Balance: 21425.47\n",
      "Positions: {'btc': [1, 10319.34], 'eth': [3, 368.71], 'neo': [-1, 20.218]}\n",
      "---\n",
      "Cash Balance: 10000.0\n",
      "Asset Balance: -118.10099999999997\n",
      "Total Balance: 9881.899\n",
      "Positions: {'bnb': [10, 25.0609], 'eth': [-1, 368.71]}\n"
     ]
    }
   ],
   "source": [
    "# market buy\n",
    "b.add_order('linsu_binance', 'neo', '9fd8s0', 'market', -1)\n",
    "next(b)\n",
    "\n",
    "b.accounts['linsu_binance'].summary()\n",
    "print('---')\n",
    "b.accounts['linsu_coinbase'].summary()"
   ]
  },
  {
   "cell_type": "code",
   "execution_count": 10,
   "metadata": {},
   "outputs": [
    {
     "name": "stdout",
     "output_type": "stream",
     "text": [
      "Cash Balance: 9894.897\n",
      "Asset Balance: 11530.640000000001\n",
      "Total Balance: 21425.537000000004\n",
      "Positions: {'btc': [1, 10319.0], 'eth': [3, 368.84], 'neo': [-1, 20.201], 'bnb': [5, 25.0642]}\n",
      "---\n",
      "Cash Balance: 10000.0\n",
      "Asset Balance: -118.19799999999998\n",
      "Total Balance: 9881.802\n",
      "Positions: {'bnb': [10, 25.0642], 'eth': [-1, 368.84]}\n"
     ]
    }
   ],
   "source": [
    "# limit buy triggers since bnb price < limit buy price\n",
    "b.add_order('linsu_binance', 'bnb', '9fd8s0fdsa', 'limit', 5, 30)\n",
    "next(b)\n",
    "\n",
    "b.accounts['linsu_binance'].summary()\n",
    "print('---')\n",
    "b.accounts['linsu_coinbase'].summary()"
   ]
  },
  {
   "cell_type": "code",
   "execution_count": 11,
   "metadata": {},
   "outputs": [
    {
     "name": "stdout",
     "output_type": "stream",
     "text": [
      "Cash Balance: 9894.897\n",
      "Asset Balance: 11530.691499999997\n",
      "Total Balance: 21425.588499999998\n",
      "Positions: {'btc': [1, 10319.47], 'eth': [3, 368.68], 'neo': [-1, 20.217], 'bnb': [5, 25.0797]}\n",
      "---\n",
      "Cash Balance: 10000.0\n",
      "Asset Balance: -117.88300000000001\n",
      "Total Balance: 9882.117\n",
      "Positions: {'bnb': [10, 25.0797], 'eth': [-1, 368.68]}\n"
     ]
    }
   ],
   "source": [
    "# limit buy fails to trigger since bnb price > limit buy price\n",
    "b.add_order('linsu_binance', 'bnb', '9fd8s0fdsa', 'limit', 5, 20)\n",
    "next(b)\n",
    "\n",
    "b.accounts['linsu_binance'].summary()\n",
    "print('---')\n",
    "b.accounts['linsu_coinbase'].summary()"
   ]
  }
 ],
 "metadata": {
  "kernelspec": {
   "display_name": "Python 3",
   "language": "python",
   "name": "python3"
  },
  "language_info": {
   "codemirror_mode": {
    "name": "ipython",
    "version": 3
   },
   "file_extension": ".py",
   "mimetype": "text/x-python",
   "name": "python",
   "nbconvert_exporter": "python",
   "pygments_lexer": "ipython3",
   "version": "3.8.7"
  }
 },
 "nbformat": 4,
 "nbformat_minor": 4
}
